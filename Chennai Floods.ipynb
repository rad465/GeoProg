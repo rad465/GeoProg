{
 "cells": [
  {
   "cell_type": "code",
   "execution_count": 1,
   "metadata": {},
   "outputs": [
    {
     "ename": "ModuleNotFoundError",
     "evalue": "No module named 'arcgis'",
     "output_type": "error",
     "traceback": [
      "\u001b[1;31m---------------------------------------------------------------------------\u001b[0m",
      "\u001b[1;31mModuleNotFoundError\u001b[0m                       Traceback (most recent call last)",
      "\u001b[1;32m<ipython-input-1-4c6c323fb46d>\u001b[0m in \u001b[0;36m<module>\u001b[1;34m()\u001b[0m\n\u001b[0;32m      5\u001b[0m \u001b[1;32mfrom\u001b[0m \u001b[0mIPython\u001b[0m\u001b[1;33m.\u001b[0m\u001b[0mdisplay\u001b[0m \u001b[1;32mimport\u001b[0m \u001b[0mdisplay\u001b[0m\u001b[1;33m,\u001b[0m \u001b[0mYouTubeVideo\u001b[0m\u001b[1;33m\u001b[0m\u001b[0m\n\u001b[0;32m      6\u001b[0m \u001b[1;33m\u001b[0m\u001b[0m\n\u001b[1;32m----> 7\u001b[1;33m \u001b[1;32mimport\u001b[0m \u001b[0marcgis\u001b[0m\u001b[1;33m\u001b[0m\u001b[0m\n\u001b[0m\u001b[0;32m      8\u001b[0m \u001b[1;32mfrom\u001b[0m \u001b[0marcgis\u001b[0m\u001b[1;33m.\u001b[0m\u001b[0mgis\u001b[0m \u001b[1;32mimport\u001b[0m \u001b[0mGIS\u001b[0m\u001b[1;33m\u001b[0m\u001b[0m\n\u001b[0;32m      9\u001b[0m \u001b[1;32mfrom\u001b[0m \u001b[0marcgis\u001b[0m\u001b[1;33m.\u001b[0m\u001b[0mfeatures\u001b[0m\u001b[1;33m.\u001b[0m\u001b[0manalyze_patterns\u001b[0m \u001b[1;32mimport\u001b[0m \u001b[0minterpolate_points\u001b[0m\u001b[1;33m\u001b[0m\u001b[0m\n",
      "\u001b[1;31mModuleNotFoundError\u001b[0m: No module named 'arcgis'"
     ]
    }
   ],
   "source": [
    "import datetime\n",
    "\n",
    "%matplotlib inline\n",
    "import matplotlib.pyplot as pd\n",
    "from IPython.display import display, YouTubeVideo\n",
    "\n",
    "import arcgis\n",
    "from arcgis.gis import GIS\n",
    "from arcgis.features.analyze_patterns import interpolate_points\n",
    "from arcgis.geocoding import geocode\n",
    "from arcgis.features.find_locations import trace_downstream\n",
    "from arcgis.features.use_proximity import create_buffers\n",
    "\n",
    "gis = GIS(profile = \"your_online_profile\")"
   ]
  },
  {
   "cell_type": "code",
   "execution_count": null,
   "metadata": {},
   "outputs": [],
   "source": [
    "\n",
    "YouTubeVideo('x4dNIfx6HVs')"
   ]
  },
  {
   "cell_type": "code",
   "execution_count": null,
   "metadata": {},
   "outputs": [],
   "source": [
    "map = gis.map(\"Chennai\")\n",
    "map"
   ]
  },
  {
   "cell_type": "code",
   "execution_count": null,
   "metadata": {},
   "outputs": [],
   "source": [
    "chennaipop = gis.content.search(\"Chennai_Population\", \n",
    "                                item_type=\"Feature Layer\", \n",
    "                                outside_org=True)[0]\n",
    "chennaipop"
   ]
  },
  {
   "cell_type": "code",
   "execution_count": null,
   "metadata": {},
   "outputs": [],
   "source": [
    "map.add_layer(chennaipop, {\"renderer\":\"ClassedColorRenderer\", \n",
    "                           \"field_name\": \"TOTPOP_CY\", \n",
    "                           \"opacity\":0.7})"
   ]
  },
  {
   "cell_type": "code",
   "execution_count": null,
   "metadata": {},
   "outputs": [],
   "source": [
    "search_rainfall = gis.content.search(\"Chennai_precipitation\", \n",
    "                              item_type=\"Feature Layer\", \n",
    "                              outside_org=True)\n",
    "if len(search_rainfall) >= 1:\n",
    "    rainfall = search_rainfall[0]\n",
    "else:\n",
    "    # if the \"Chennai_precipitation\" web layer does not exist\n",
    "    print(\"Web Layer does not exist. Re-publishing...\")\n",
    "    # import any pandas data frame, with an address field, as a layer in our GIS\n",
    "    import pandas as pds\n",
    "    df = pds.read_csv('data/Chennai_precipitation.csv')\n",
    "    # Create an arcgis.features.FeatureCollection object by importing the pandas dataframe with an address field\n",
    "    rainfall = gis.content.import_data(df, {\"Address\" : \"LOCATION\"})"
   ]
  },
  {
   "cell_type": "code",
   "execution_count": null,
   "metadata": {},
   "outputs": [],
   "source": [
    "map2 = gis.map(\"Tamil Nadu, India\")\n",
    "map2"
   ]
  },
  {
   "cell_type": "code",
   "execution_count": null,
   "metadata": {},
   "outputs": [],
   "source": [
    "map2.add_layer(rainfall, {\"renderer\":\"ClassedSizeRenderer\", \n",
    "                          \"field_name\":\"RAINFALL\" })"
   ]
  },
  {
   "cell_type": "code",
   "execution_count": null,
   "metadata": {},
   "outputs": [],
   "source": [
    "intmap = gis.map(\"Tamil Nadu\")\n",
    "intmap"
   ]
  },
  {
   "cell_type": "code",
   "execution_count": null,
   "metadata": {},
   "outputs": [],
   "source": [
    "intmap.add_layer(interpolated_rf['result_layer'])\n"
   ]
  },
  {
   "cell_type": "code",
   "execution_count": null,
   "metadata": {},
   "outputs": [],
   "source": [
    "lakemap = gis.map(\"Chennai\")\n",
    "lakemap.height='450px'\n",
    "lakemap"
   ]
  },
  {
   "cell_type": "code",
   "execution_count": null,
   "metadata": {},
   "outputs": [],
   "source": [
    "lakemap.draw(geocode(\"Chembarambakkam, Tamil Nadu\")[0], \n",
    "             {\"title\": \"Chembarambakkam\", \"content\": \"Water reservoir\"})\n",
    "lakemap.draw(geocode(\"Puzhal Lake, Tamil Nadu\")[0], \n",
    "             {\"title\": \"Puzhal\", \"content\": \"Water reservoir\"})\n",
    "lakemap.draw(geocode(\"Kannampettai, Tamil Nadu\")[0], \n",
    "             {\"title\": \"Poondi Lake \", \"content\": \"Water reservoir\"})"
   ]
  },
  {
   "cell_type": "code",
   "execution_count": null,
   "metadata": {},
   "outputs": [],
   "source": [
    "search_results = gis.content.search(\"Chennai_lakes\", \n",
    "                                   item_type=\"Feature Layer\",\n",
    "                                   outside_org=True)\n",
    "search_results"
   ]
  },
  {
   "cell_type": "code",
   "execution_count": null,
   "metadata": {},
   "outputs": [],
   "source": [
    "chennai_lakes = search_results[2]\n",
    "chennai_lakes"
   ]
  },
  {
   "cell_type": "code",
   "execution_count": null,
   "metadata": {},
   "outputs": [],
   "source": [
    "downstream = trace_downstream(chennai_lakes)\n",
    "downstream.query()"
   ]
  },
  {
   "cell_type": "code",
   "execution_count": null,
   "metadata": {},
   "outputs": [],
   "source": [
    "floodprone_buffer = create_buffers(downstream, [ 1 ], units='Miles')"
   ]
  },
  {
   "cell_type": "code",
   "execution_count": null,
   "metadata": {},
   "outputs": [],
   "source": [
    "lakemap.add_layer(floodprone_buffer)"
   ]
  },
  {
   "cell_type": "code",
   "execution_count": null,
   "metadata": {},
   "outputs": [],
   "source": [
    "def exact_search(my_gis, title, owner_value, item_type_value, max_items_value=20):\n",
    "    final_match = None\n",
    "    search_result = my_gis.content.search(query= title + ' AND owner:' + owner_value, \n",
    "                                          item_type=item_type_value, max_items=max_items_value, outside_org=True)\n",
    "    \n",
    "    if \"Imagery Layer\" in item_type_value:\n",
    "        item_type_value = item_type_value.replace(\"Imagery Layer\", \"Image Service\")\n",
    "    elif \"Layer\" in item_type_value:\n",
    "        item_type_value = item_type_value.replace(\"Layer\", \"Service\")\n",
    "    \n",
    "    for result in search_result:\n",
    "        if result.title == title:\n",
    "            final_match = result\n",
    "            break\n",
    "    return final_match\n",
    "\n",
    "ls_water = exact_search(gis, 'Landsat GLS Multispectral', 'esri', 'Imagery Layer')\n",
    "ls_water"
   ]
  },
  {
   "cell_type": "code",
   "execution_count": null,
   "metadata": {},
   "outputs": [],
   "source": [
    "ls_water_lyr = ls_water.layers[0]"
   ]
  },
  {
   "cell_type": "code",
   "execution_count": null,
   "metadata": {},
   "outputs": [],
   "source": [
    "from arcgis.geocoding import geocode\n",
    "area = geocode(\"Tamil Nadu, India\", out_sr=ls_water_lyr.properties.extent.spatialReference)[0]\n",
    "ls_water_lyr.extent = area['extent']"
   ]
  },
  {
   "cell_type": "code",
   "execution_count": null,
   "metadata": {},
   "outputs": [],
   "source": [
    "# data source option \n",
    "from arcgis.raster.functions import stretch, extract_band\n",
    "target_img_layer = stretch(extract_band(ls_water_lyr, [5,4,3]),\n",
    "                           stretch_type=\"percentclip\", gamma=[1,1,1], dra=True)"
   ]
  },
  {
   "cell_type": "code",
   "execution_count": null,
   "metadata": {},
   "outputs": [],
   "source": [
    "import pandas as pd\n",
    "from arcgis import geometry\n",
    "import datetime as dt\n",
    "\n",
    "def filter_images(my_map, start_year, end_year):\n",
    "    selected = target_img_layer.filter_by(where=\"(Category = 1) AND (CloudCover <=0.2)\",\n",
    "                                          time=[dt.datetime(start_year, 1, 1), dt.datetime(end_year, 1, 1)],\n",
    "                                          geometry=arcgis.geometry.filters.intersects(ls_water_lyr.extent))\n",
    "    my_map.add_layer(selected)\n",
    "    \n",
    "    fs = selected.query(out_fields=\"AcquisitionDate, GroupName, Month, DayOfYear, WRS_Row, WRS_Path\")\n",
    "    tdf = fs.sdf  \n",
    "    return tdf"
   ]
  },
  {
   "cell_type": "code",
   "execution_count": null,
   "metadata": {},
   "outputs": [],
   "source": [
    "satmap1 = gis.map(\"Pallikaranai, Tamil Nadu, India\", 13)\n",
    "df = filter_images(satmap1, 1991, 1992) \n",
    "df.head()"
   ]
  },
  {
   "cell_type": "code",
   "execution_count": null,
   "metadata": {},
   "outputs": [],
   "source": [
    "satmap2 = gis.map(\"Pallikaranai, Tamil Nadu, India\", 13)\n",
    "df = filter_images(satmap2, 2009, 2010)\n",
    "df.head()"
   ]
  },
  {
   "cell_type": "code",
   "execution_count": null,
   "metadata": {},
   "outputs": [],
   "source": [
    "from ipywidgets import *\n",
    "\n",
    "satmap1.layout=Layout(flex='1 1', padding='10px', height='300px')\n",
    "satmap2.layout=Layout(flex='1 1', padding='10px', height='300px')\n",
    "\n",
    "box = HBox([satmap1, satmap2])\n",
    "box"
   ]
  },
  {
   "cell_type": "code",
   "execution_count": null,
   "metadata": {},
   "outputs": [],
   "source": [
    "relief_centers = gis.content.search(\"Chennai Relief Centers\")[0]"
   ]
  },
  {
   "cell_type": "code",
   "execution_count": null,
   "metadata": {},
   "outputs": [],
   "source": [
    "reliefmap = gis.map(\"Chennai\")\n",
    "reliefmap"
   ]
  },
  {
   "cell_type": "code",
   "execution_count": null,
   "metadata": {},
   "outputs": [],
   "source": [
    "reliefmap.add_layer(chennaipop, {\"opacity\":0.5})\n"
   ]
  },
  {
   "cell_type": "code",
   "execution_count": null,
   "metadata": {},
   "outputs": [],
   "source": [
    "reliefmap.add_layer(relief_centers)\n"
   ]
  },
  {
   "cell_type": "code",
   "execution_count": null,
   "metadata": {},
   "outputs": [],
   "source": [
    "relief_data = relief_centers.layers[0].query().sdf\n",
    "relief_data.head()"
   ]
  },
  {
   "cell_type": "code",
   "execution_count": null,
   "metadata": {},
   "outputs": [],
   "source": [
    "relief_data['No_of_pers'].sum()"
   ]
  },
  {
   "cell_type": "code",
   "execution_count": null,
   "metadata": {},
   "outputs": [],
   "source": [
    "relief_data['No_of_pers'].describe()"
   ]
  },
  {
   "cell_type": "code",
   "execution_count": null,
   "metadata": {},
   "outputs": [],
   "source": [
    "relief_data['No_of_pers'].hist()"
   ]
  },
  {
   "cell_type": "code",
   "execution_count": null,
   "metadata": {},
   "outputs": [],
   "source": [
    "relief_data.shape"
   ]
  },
  {
   "cell_type": "code",
   "execution_count": null,
   "metadata": {},
   "outputs": [],
   "source": [
    "chennai_pop_featurelayer = chennaipop.layers[0]"
   ]
  },
  {
   "cell_type": "code",
   "execution_count": null,
   "metadata": {},
   "outputs": [],
   "source": [
    "res = arcgis.features.summarize_data.aggregate_points(  relief_centers, \n",
    "                                                        chennai_pop_featurelayer, \n",
    "                                                        False, \n",
    "                                                        [\"No_of_pers Sum\"])"
   ]
  },
  {
   "cell_type": "code",
   "execution_count": null,
   "metadata": {},
   "outputs": [],
   "source": [
    "aggr_lyr = res['aggregated_layer']"
   ]
  },
  {
   "cell_type": "code",
   "execution_count": null,
   "metadata": {},
   "outputs": [],
   "source": [
    "\n",
    "reliefmap.add_layer(aggr_lyr, { \"renderer\": \"ClassedSizeRenderer\", \n",
    "                               \"field_name\":\"SUM_No_of_pers\"})"
   ]
  },
  {
   "cell_type": "code",
   "execution_count": null,
   "metadata": {},
   "outputs": [],
   "source": [
    "df = aggr_lyr.query().sdf\n",
    "df.head()"
   ]
  },
  {
   "cell_type": "code",
   "execution_count": null,
   "metadata": {},
   "outputs": [],
   "source": [
    "df = aggr_lyr.query().sdf\n",
    "\n",
    "df2 = df[['NAME', 'SUM_No_of_pers']]\n",
    "df2.set_index('NAME', inplace=True)\n",
    "df2"
   ]
  },
  {
   "cell_type": "code",
   "execution_count": null,
   "metadata": {},
   "outputs": [],
   "source": [
    "df2.plot(kind='bar')"
   ]
  },
  {
   "cell_type": "code",
   "execution_count": null,
   "metadata": {},
   "outputs": [],
   "source": [
    "routemap = gis.map(\"Chennai\")\n",
    "routemap"
   ]
  },
  {
   "cell_type": "code",
   "execution_count": null,
   "metadata": {},
   "outputs": [],
   "source": [
    "nehru_stadium = geocode('Jawaharlal Nehru Stadium, Chennai')[0]\n",
    "routemap.draw(nehru_stadium, {\"title\": \"Nehru Stadium\", \n",
    "                              \"content\": \"Chennai Flood Relief Center\"})"
   ]
  },
  {
   "cell_type": "code",
   "execution_count": null,
   "metadata": {},
   "outputs": [],
   "source": [
    "start_time = datetime.datetime(2015, 12, 13, 9, 0)"
   ]
  },
  {
   "cell_type": "code",
   "execution_count": null,
   "metadata": {},
   "outputs": [],
   "source": [
    "routes = arcgis.features.use_proximity.plan_routes(\n",
    "    relief_centers, \n",
    "    15, \n",
    "    15, \n",
    "    start_time, \n",
    "    nehru_stadium, \n",
    "    stop_service_time=30)\n",
    "routemap.add_layer(routes['routes_layer'])"
   ]
  },
  {
   "cell_type": "code",
   "execution_count": null,
   "metadata": {},
   "outputs": [],
   "source": [
    "routemap.add_layer(routes['assigned_stops_layer'])"
   ]
  },
  {
   "cell_type": "code",
   "execution_count": null,
   "metadata": {},
   "outputs": [],
   "source": []
  },
  {
   "cell_type": "code",
   "execution_count": null,
   "metadata": {},
   "outputs": [],
   "source": []
  },
  {
   "cell_type": "code",
   "execution_count": null,
   "metadata": {},
   "outputs": [],
   "source": []
  },
  {
   "cell_type": "code",
   "execution_count": null,
   "metadata": {},
   "outputs": [],
   "source": []
  },
  {
   "cell_type": "code",
   "execution_count": null,
   "metadata": {},
   "outputs": [],
   "source": []
  }
 ],
 "metadata": {
  "kernelspec": {
   "display_name": "Python 3",
   "language": "python",
   "name": "python3"
  },
  "language_info": {
   "codemirror_mode": {
    "name": "ipython",
    "version": 3
   },
   "file_extension": ".py",
   "mimetype": "text/x-python",
   "name": "python",
   "nbconvert_exporter": "python",
   "pygments_lexer": "ipython3",
   "version": "3.7.0"
  }
 },
 "nbformat": 4,
 "nbformat_minor": 2
}
