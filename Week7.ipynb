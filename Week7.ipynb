{
 "cells": [
  {
   "cell_type": "code",
   "execution_count": null,
   "metadata": {},
   "outputs": [],
   "source": [
    "def sed(pattern, replacement, origF, destF):\n",
    "    try:\n",
    "        #read\n",
    "        f_in = open(origF, 'r')\n",
    "        lines = f_in.readlines()\n",
    "        #write\n",
    "        f_out = open(destF, 'w')\n",
    "        \n",
    "        \n",
    "        for line in lines:\n",
    "            new_line = line.replace(pattern, replacement)\n",
    "            new_file.write(new_line)\n",
    "       \n",
    "    \n",
    "    #close files - good practice\n",
    "        f_in.close()\n",
    "        f_out.close()\n",
    "\n",
    "    except:\n",
    "        print (\"I'm a geologist not an engineer!\""
   ]
  },
  {
   "cell_type": "code",
   "execution_count": 1,
   "metadata": {},
   "outputs": [
    {
     "ename": "ModuleNotFoundError",
     "evalue": "No module named 'shapely'",
     "output_type": "error",
     "traceback": [
      "\u001b[1;31m---------------------------------------------------------------------------\u001b[0m",
      "\u001b[1;31mModuleNotFoundError\u001b[0m                       Traceback (most recent call last)",
      "\u001b[1;32m<ipython-input-1-28e977b0b48e>\u001b[0m in \u001b[0;36m<module>\u001b[1;34m()\u001b[0m\n\u001b[0;32m      1\u001b[0m \u001b[1;32mimport\u001b[0m \u001b[0mcsv\u001b[0m\u001b[1;33m\u001b[0m\u001b[0m\n\u001b[1;32m----> 2\u001b[1;33m \u001b[1;32mfrom\u001b[0m \u001b[0mshapely\u001b[0m\u001b[1;33m.\u001b[0m\u001b[0mgeometry\u001b[0m \u001b[1;32mimport\u001b[0m \u001b[0mPoint\u001b[0m\u001b[1;33m,\u001b[0m \u001b[0mmapping\u001b[0m\u001b[1;33m\u001b[0m\u001b[0m\n\u001b[0m\u001b[0;32m      3\u001b[0m \u001b[1;32mfrom\u001b[0m \u001b[0mfiona\u001b[0m \u001b[1;32mimport\u001b[0m \u001b[0mcollection\u001b[0m\u001b[1;33m\u001b[0m\u001b[0m\n\u001b[0;32m      4\u001b[0m \u001b[1;33m\u001b[0m\u001b[0m\n\u001b[0;32m      5\u001b[0m \u001b[0mschema\u001b[0m \u001b[1;33m=\u001b[0m \u001b[1;33m{\u001b[0m \u001b[1;34m'geometry'\u001b[0m\u001b[1;33m:\u001b[0m \u001b[1;34m'Point'\u001b[0m\u001b[1;33m,\u001b[0m \u001b[1;34m'properties'\u001b[0m\u001b[1;33m:\u001b[0m \u001b[1;33m{\u001b[0m \u001b[1;34m'name'\u001b[0m\u001b[1;33m:\u001b[0m \u001b[1;34m'str'\u001b[0m \u001b[1;33m}\u001b[0m \u001b[1;33m}\u001b[0m\u001b[1;33m\u001b[0m\u001b[0m\n",
      "\u001b[1;31mModuleNotFoundError\u001b[0m: No module named 'shapely'"
     ]
    }
   ],
   "source": [
    "import csv\n",
    "from shapely.geometry import Point, mapping\n",
    "from fiona import collection\n",
    "\n",
    "schema = { 'geometry': 'Point', 'properties': { 'name': 'str' } }\n",
    "with collection(\n",
    "    r\"C:\\Users\\enter\\Documents\\AGrad\\GeoProg\\Week 7\\some.shp\", \"w\", \"ESRI Shapefile\", schema) as output:\n",
    "    with open('some.csv', 'rb') as f:\n",
    "        reader = csv.DictReader(f)\n",
    "        for row in reader:\n",
    "            point = Point(float(row['lon']), float(row['lat']))\n",
    "            output.write({\n",
    "                'properties': {\n",
    "                    'name': row['name']\n",
    "                },\n",
    "                'geometry': mapping(point)\n",
    "            })\n",
    "            \n",
    "            \n",
    "            "
   ]
  },
  {
   "cell_type": "code",
   "execution_count": null,
   "metadata": {},
   "outputs": [],
   "source": []
  }
 ],
 "metadata": {
  "kernelspec": {
   "display_name": "Python 3",
   "language": "python",
   "name": "python3"
  },
  "language_info": {
   "codemirror_mode": {
    "name": "ipython",
    "version": 3
   },
   "file_extension": ".py",
   "mimetype": "text/x-python",
   "name": "python",
   "nbconvert_exporter": "python",
   "pygments_lexer": "ipython3",
   "version": "3.7.0"
  }
 },
 "nbformat": 4,
 "nbformat_minor": 2
}
