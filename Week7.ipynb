{
 "cells": [
  {
   "cell_type": "code",
   "execution_count": 1,
   "metadata": {},
   "outputs": [
    {
     "ename": "SyntaxError",
     "evalue": "unexpected EOF while parsing (<ipython-input-1-266b4cbf3300>, line 20)",
     "output_type": "error",
     "traceback": [
      "\u001b[1;36m  File \u001b[1;32m\"<ipython-input-1-266b4cbf3300>\"\u001b[1;36m, line \u001b[1;32m20\u001b[0m\n\u001b[1;33m    print (\"I'm a geologist not an engineer!\"\u001b[0m\n\u001b[1;37m                                             ^\u001b[0m\n\u001b[1;31mSyntaxError\u001b[0m\u001b[1;31m:\u001b[0m unexpected EOF while parsing\n"
     ]
    }
   ],
   "source": [
    "def sed(pattern, replacement, origF, destF):\n",
    "    try:\n",
    "        #read\n",
    "        f_in = open(origF, 'r')\n",
    "        lines = f_in.readlines()\n",
    "        #write\n",
    "        f_out = open(destF, 'w')\n",
    "        \n",
    "        \n",
    "        for line in lines:\n",
    "            new_line = line.replace(pattern, replacement)\n",
    "            new_file.write(new_line)\n",
    "       \n",
    "    \n",
    "    #close files - good practice\n",
    "        f_in.close()\n",
    "        f_out.close()\n",
    "\n",
    "    except:\n",
    "        print (\"I'm a geologist not an engineer!\""
   ]
  },
  {
   "cell_type": "code",
   "execution_count": 4,
   "metadata": {},
   "outputs": [
    {
     "name": "stdout",
     "output_type": "stream",
     "text": [
      "I can't believe this worked!!!\n"
     ]
    }
   ],
   "source": [
    "import csv\n",
    "from shapely.geometry import Point, mapping\n",
    "from fiona import collection\n",
    "\n",
    "schema = { 'geometry': 'Point', 'properties': { 'name': 'str' } }\n",
    "with collection(\n",
    "    r\"C:\\Users\\enter\\Documents\\AGrad\\GeoProg\\Week 7\\some.shp\", \"w\", \"ESRI Shapefile\", schema) as output:\n",
    "    with open('some.csv', 'rt') as f:\n",
    "        reader = csv.DictReader(f)\n",
    "        for row in reader:\n",
    "            point = Point(float(row['lon']), float(row['lat']))\n",
    "            output.write({\n",
    "                'properties': {\n",
    "                    'name': row['name']\n",
    "                },\n",
    "                'geometry': mapping(point)\n",
    "            })\n",
    "            \n",
    "print(\"I can't believe this worked!!!\")\n",
    "            "
   ]
  },
  {
   "cell_type": "code",
   "execution_count": 5,
   "metadata": {},
   "outputs": [
    {
     "name": "stdout",
     "output_type": "stream",
     "text": [
      "Buff, buff, buff it out!!\n"
     ]
    }
   ],
   "source": [
    "from shapely.geometry import mapping, shape\n",
    "from fiona import collection\n",
    "\n",
    "with collection(r\"C:\\Users\\enter\\Documents\\AGrad\\GeoProg\\Week 7\\some.shp\", \"r\") as input:\n",
    "    # schema = input.schema.copy()\n",
    "    schema = { 'geometry': 'Polygon', 'properties': { 'name': 'str' } }\n",
    "    with collection(\n",
    "        \"some_buffer.shp\", \"w\", \"ESRI Shapefile\", schema) as output:\n",
    "        for point in input:\n",
    "            output.write({\n",
    "                'properties': {\n",
    "                    'name': point['properties']['name']\n",
    "                },\n",
    "                'geometry': mapping(shape(point['geometry']).buffer(5.0))\n",
    "            })\n",
    "print(\"Buff, buff, buff it out!!\")"
   ]
  },
  {
   "cell_type": "code",
   "execution_count": 6,
   "metadata": {},
   "outputs": [
    {
     "name": "stdout",
     "output_type": "stream",
     "text": [
      "Squishy, squishy\n"
     ]
    }
   ],
   "source": [
    "from shapely.geometry import mapping, shape\n",
    "from shapely.ops import cascaded_union\n",
    "from fiona import collection\n",
    "\n",
    "with collection(r\"C:\\Users\\enter\\Documents\\AGrad\\GeoProg\\Week 7\\some_buffer.shp\", \"r\") as input:\n",
    "    schema = input.schema.copy()\n",
    "    with collection(\n",
    "            \"some_union.shp\", \"w\", \"ESRI Shapefile\", schema) as output:\n",
    "        shapes = []\n",
    "        for f in input:\n",
    "            shapes.append(shape(f['geometry']))\n",
    "        merged = cascaded_union(shapes)\n",
    "        output.write({\n",
    "            'properties': {\n",
    "                'name': 'Buffer Area'\n",
    "                },\n",
    "            'geometry': mapping(merged)\n",
    "            })\n",
    "        \n",
    "print(\"Squishy, squishy\")        "
   ]
  },
  {
   "cell_type": "code",
   "execution_count": null,
   "metadata": {},
   "outputs": [],
   "source": []
  }
 ],
 "metadata": {
  "kernelspec": {
   "display_name": "Python 3",
   "language": "python",
   "name": "python3"
  },
  "language_info": {
   "codemirror_mode": {
    "name": "ipython",
    "version": 3
   },
   "file_extension": ".py",
   "mimetype": "text/x-python",
   "name": "python",
   "nbconvert_exporter": "python",
   "pygments_lexer": "ipython3",
   "version": "3.7.4"
  }
 },
 "nbformat": 4,
 "nbformat_minor": 2
}
